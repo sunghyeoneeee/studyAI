{
 "cells": [
  {
   "cell_type": "markdown",
   "id": "2dc25279-0800-4a2a-a7e5-56dfff36f71e",
   "metadata": {},
   "source": [
    "# 3. 도형 그리기"
   ]
  },
  {
   "cell_type": "markdown",
   "id": "b673b36b-7dc7-47d7-8b12-7493d48cb47b",
   "metadata": {},
   "source": [
    "## 빈 스케치북 만들기"
   ]
  },
  {
   "cell_type": "code",
   "execution_count": 17,
   "id": "7bbb3989-bfd8-404d-994a-b766b8bd3949",
   "metadata": {},
   "outputs": [],
   "source": [
    "import cv2\n",
    "import numpy as np\n",
    "\n",
    "# 세로 480 x 가로 640, 3 Channel(RGB)에 해당하는 스케치북 만들기\n",
    "img = np.zeros((480, 640, 3), dtype=np.uint8)\n",
    "# img[:] = (255, 255, 0) # 전체 공간 색 채우기\n",
    "# print(img)\n",
    "cv2.imshow('img', img)\n",
    "cv2.waitKey(0)\n",
    "cv2.destroyAllWindows()"
   ]
  },
  {
   "cell_type": "markdown",
   "id": "7f3b5471-1cfa-41ad-87dd-bb3116a02b53",
   "metadata": {},
   "source": [
    "## 일부 영역 색칠"
   ]
  },
  {
   "cell_type": "code",
   "execution_count": 10,
   "id": "135ac380-81c1-4fd4-a8fe-cf47fba26d88",
   "metadata": {},
   "outputs": [],
   "source": [
    "import cv2\n",
    "import numpy as np\n",
    "\n",
    "img = np.zeros((480, 640, 3), dtype=np.uint8)\n",
    "img[100:200, 200:300] = (255, 255, 255)\n",
    "\n",
    "cv2.imshow('img', img)\n",
    "cv2.waitKey(0)\n",
    "cv2.destroyAllWindows()"
   ]
  },
  {
   "cell_type": "markdown",
   "id": "9379c5df-0e2e-4971-99d8-33a79ca40d08",
   "metadata": {},
   "source": [
    "## 직선\n",
    "직선의 종류 (line type)\n",
    "\n",
    "1. cv2.LINE_4 : 상하좌우 4 방향으로 연결된 선\n",
    "2. cv2.LINE_8 : 대각선을 포함한 8 방향으로 연결된 선 (기본값)\n",
    "3. cv2.LINE_AA : 부드러운 선 (anti-aliasing)"
   ]
  },
  {
   "cell_type": "code",
   "execution_count": 21,
   "id": "cf847372-2817-40f8-bd55-7e3fd3ef7dfe",
   "metadata": {},
   "outputs": [],
   "source": [
    "import cv2\n",
    "import numpy as np\n",
    "\n",
    "img = np.zeros((480, 640, 3), dtype=np.uint8)\n",
    "\n",
    "COLOR = (0,255,255) # 색\n",
    "THICKNESS = 3 # 두께\n",
    "\n",
    "cv2.line(img, (50,100), (400,50), COLOR, THICKNESS, cv2.LINE_8)\n",
    "cv2.line(img, (50,200), (400,150), COLOR, THICKNESS, cv2.LINE_4)\n",
    "cv2.line(img, (50,300), (400,250), COLOR, THICKNESS, cv2.LINE_AA)\n",
    "# 그릴 위치, 시작 점, 끝 점, 색, 두께, 선 종류\n",
    "\n",
    "cv2.imshow('ha', img)\n",
    "cv2.waitKey(0)\n",
    "cv2.destroyAllWindows()"
   ]
  },
  {
   "cell_type": "markdown",
   "id": "e3773f23-d09a-4764-9dc2-b302ec899742",
   "metadata": {},
   "source": [
    "## 원"
   ]
  },
  {
   "cell_type": "code",
   "execution_count": 26,
   "id": "5496f1d7-d212-40b9-a875-683eced2c674",
   "metadata": {},
   "outputs": [],
   "source": [
    "import cv2\n",
    "import numpy as np\n",
    "\n",
    "img = np.zeros((480, 640, 3), dtype=np.uint8)\n",
    "\n",
    "COLOR = (255,255,0) # 색\n",
    "RADIUS = 50 # 반지름\n",
    "THICKNESS = 3 # 두께\n",
    "\n",
    "cv2.circle(img, (200, 100), RADIUS, COLOR, THICKNESS, cv2.LINE_AA) # 빈 원\n",
    "cv2.circle(img, (400, 100), RADIUS, COLOR, cv2.FILLED, cv2.LINE_AA) # 꽉 찬 원\n",
    "\n",
    "cv2.imshow('ha', img)\n",
    "cv2.waitKey(0)\n",
    "cv2.destroyAllWindows()"
   ]
  },
  {
   "cell_type": "markdown",
   "id": "a809659e-ad99-4314-9690-3a3b7205e195",
   "metadata": {},
   "source": [
    "## 사각형"
   ]
  },
  {
   "cell_type": "code",
   "execution_count": 33,
   "id": "aedb517f-6d3f-4e8b-ae11-67dab6d82343",
   "metadata": {},
   "outputs": [],
   "source": [
    "import cv2\n",
    "import numpy as np\n",
    "\n",
    "img = np.zeros((480, 640, 3), dtype=np.uint8)\n",
    "\n",
    "COLOR = (0,255,255) # 색\n",
    "THICKNESS = 3 # 두께\n",
    "\n",
    "cv2.rectangle(img, (100,100), (200,200), COLOR, THICKNESS) # 빈 사각형\n",
    "cv2.rectangle(img, (300,100), (400,300), COLOR, cv2.FILLED) # 꽉 찬 사각형\n",
    "\n",
    "cv2.imshow('ha', img)\n",
    "cv2.waitKey(0)\n",
    "cv2.destroyAllWindows()"
   ]
  },
  {
   "cell_type": "markdown",
   "id": "74df45a3-4822-45df-aa64-df257eb680e8",
   "metadata": {},
   "source": [
    "## 다각형"
   ]
  },
  {
   "cell_type": "code",
   "execution_count": null,
   "id": "0adb5b79-4715-49b4-9e36-bf654b8d266c",
   "metadata": {},
   "outputs": [],
   "source": [
    "import cv2\n",
    "import numpy as np\n",
    "\n",
    "img = np.zeros((480, 640, 3), dtype=np.uint8)\n",
    "\n",
    "COLOR = (255,0,255) # 색\n",
    "THICKNESS = 3 # 두께\n",
    "\n",
    "pts1 = np.array([[100,100], [200,100], [100,200]])\n",
    "pts2 = np.array([[200,100],[300,100],[300,200]])\n",
    "\n",
    "# cv2.polylines(img, [pts1], True, COLOR, THICKNESS, cv2.LINE_AA)\n",
    "# cv2.polylines(img, [pts2], True, COLOR, THICKNESS, cv2.LINE_AA)\n",
    "cv2.polylines(img, [pts1,pts2], True, COLOR, THICKNESS, cv2.LINE_AA) # 빈 다각형\n",
    "# 그릴 위치, 그릴 좌표, 닫힘 여부, 색, 두께, 선 종류\n",
    "\n",
    "pts3 = np.array([[[100,300],[200,300],[100,400]], [[200,300],[300,300],[300,400]]])\n",
    "cv2.fillPoly(img, pts3, COLOR, cv2.LINE_AA) # 꽉 찬 다각형\n",
    "\n",
    "cv2.imshow('ha', img)\n",
    "cv2.waitKey(0)\n",
    "cv2.destroyAllWindows()"
   ]
  }
 ],
 "metadata": {
  "kernelspec": {
   "display_name": "Python 3 (ipykernel)",
   "language": "python",
   "name": "python3"
  },
  "language_info": {
   "codemirror_mode": {
    "name": "ipython",
    "version": 3
   },
   "file_extension": ".py",
   "mimetype": "text/x-python",
   "name": "python",
   "nbconvert_exporter": "python",
   "pygments_lexer": "ipython3",
   "version": "3.11.4"
  }
 },
 "nbformat": 4,
 "nbformat_minor": 5
}
