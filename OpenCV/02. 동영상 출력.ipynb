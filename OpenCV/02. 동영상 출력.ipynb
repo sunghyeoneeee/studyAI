{
 "cells": [
  {
   "cell_type": "markdown",
   "id": "e8638af7-9030-42ec-a92f-b93d911756bb",
   "metadata": {},
   "source": [
    "# 2. 동영상 출력"
   ]
  },
  {
   "cell_type": "markdown",
   "id": "167267f4-00d6-479a-b921-c19c28a71c5e",
   "metadata": {},
   "source": [
    "## 동영상 파일 출력 "
   ]
  },
  {
   "cell_type": "code",
   "execution_count": 3,
   "id": "ac15316d-b5ae-4cba-bcf5-93af12fd371a",
   "metadata": {},
   "outputs": [
    {
     "name": "stdout",
     "output_type": "stream",
     "text": [
      "종료\n"
     ]
    }
   ],
   "source": [
    "import cv2\n",
    "cap = cv2.VideoCapture('video.mp4')\n",
    "\n",
    "while cap.isOpened(): # 동영상 파일이 제대로 열렸는지 확인\n",
    "    ret, frame = cap.read() # ret : 성공 여부, frame : 받아온 이미지(프레임)\n",
    "    if not ret:\n",
    "        print(\"X\")\n",
    "        break\n",
    "        \n",
    "    cv2.imshow('video', frame)\n",
    "    \n",
    "    if cv2.waitKey(1) == ord('q'):\n",
    "        print(\"종료\")\n",
    "        break\n",
    "\n",
    "cap.release() # 자원 해제\n",
    "cv2.destroyAllWindows() # 모든 창 닫기"
   ]
  },
  {
   "cell_type": "markdown",
   "id": "eeb1aa09-00a3-4b97-9b76-25c0d004b7e2",
   "metadata": {},
   "source": [
    "## 카메라 출력ㅠ"
   ]
  },
  {
   "cell_type": "code",
   "execution_count": null,
   "id": "f2146eb2-3b12-470f-bac9-50281d30efcc",
   "metadata": {},
   "outputs": [],
   "source": [
    "import cv2\n",
    "cap = cv2.VideoCapture(0) # 0번째 카메라 장치\n",
    "\n",
    "if not cap.isOpened(): # 카메라가 잘 열리지 않은 경우\n",
    "    exit() # 프로그램 종료\n",
    "\n",
    "while True:\n",
    "    ret, frame = cap.read()\n",
    "    if not ret:\n",
    "        break\n",
    "\n",
    "    cv2.imshow('camera', frame)\n",
    "    if cv2.waitKey(1) == ord('q'):\n",
    "        break\n",
    "c\n",
    "    \n"
   ]
  }
 ],
 "metadata": {
  "kernelspec": {
   "display_name": "Python 3 (ipykernel)",
   "language": "python",
   "name": "python3"
  },
  "language_info": {
   "codemirror_mode": {
    "name": "ipython",
    "version": 3
   },
   "file_extension": ".py",
   "mimetype": "text/x-python",
   "name": "python",
   "nbconvert_exporter": "python",
   "pygments_lexer": "ipython3",
   "version": "3.8.17"
  }
 },
 "nbformat": 4,
 "nbformat_minor": 5
}
