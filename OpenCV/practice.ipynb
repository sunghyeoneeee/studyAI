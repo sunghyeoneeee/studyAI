{
 "cells": [
  {
   "cell_type": "code",
   "execution_count": 6,
   "id": "a87d764c-01aa-433d-a430-29a046537169",
   "metadata": {},
   "outputs": [],
   "source": [
    "# 도형 출력\n",
    "import cv2\n",
    "import numpy as np\n",
    "img = np.zeros((480, 640, 3), dtype=np.uint8)\n",
    "img[:]=(255,255,0)\n",
    "\n",
    "cv2.line(img, (200,300),(300,400), (255,0,0), 3, cv2.LINE_AA)\n",
    "cv2.circle(img, (400,300), 50, (255,255,255), 3, cv2.LINE_AA)\n",
    "cv2.circle(img, (550,300), 50, (255,255,255), cv2.FILLED, cv2.LINE_AA)\n",
    "cv2.rectangle(img, (100,100), (200,200), (255,0,255), cv2.FILLED)\n",
    "cv2.rectangle(img, (300,100), (400,200), (0,0,255), cv2.FILLED)\n",
    "\n",
    "cv2.imshow('img', img)\n",
    "cv2.waitKey(0)\n",
    "cv2.destroyAllWindows()"
   ]
  },
  {
   "cell_type": "code",
   "execution_count": 5,
   "id": "fbba5d51-23a0-402e-bbb9-b34f34d8b09c",
   "metadata": {},
   "outputs": [],
   "source": [
    "# 이미지 흑백 변경\n",
    "import cv2\n",
    "img = cv2.imread('img.jpg')\n",
    "img_gray = cv2.imread('img.jpg', cv2.IMREAD_GRAYSCALE)\n",
    "\n",
    "cv2.imshow('img', img)\n",
    "cv2.imshow('color', img_gray)\n",
    "cv2.waitKey(0)\n",
    "cv2.destroyAllWindows()"
   ]
  },
  {
   "cell_type": "code",
   "execution_count": 4,
   "id": "b4f3c4a3-88d0-4193-9bc1-be7eb5b34b52",
   "metadata": {},
   "outputs": [
    {
     "name": "stdout",
     "output_type": "stream",
     "text": [
      "메롱\n"
     ]
    }
   ],
   "source": [
    "# 비디오 불러오기\n",
    "import cv2\n",
    "video = cv2.VideoCapture('video.mp4')\n",
    "\n",
    "while video.isOpened:\n",
    "    ret, frame = video.read()\n",
    "    if not ret:\n",
    "        print(\"흥\")\n",
    "        break\n",
    "    cv2.imshow('rkdhfl', frame)\n",
    "    if cv2.waitKey(1) == ord('q'):\n",
    "        print(\"메롱\")\n",
    "        break\n",
    "\n",
    "video.release()\n",
    "cv2.destroyAllWindows()"
   ]
  },
  {
   "cell_type": "code",
   "execution_count": 3,
   "id": "5bb2dfbf-c751-4418-9748-c0e258779868",
   "metadata": {},
   "outputs": [],
   "source": [
    "# 텍스트 출력\n",
    "import numpy as np\n",
    "import cv2\n",
    "\n",
    "img = np.zeros((480,640,3), dtype=np.uint8)\n",
    "img[:]=(255,0,0)\n",
    "\n",
    "SCALE = 1\n",
    "COLOR = (255,255,255)\n",
    "THICKNESS = 2\n",
    "\n",
    "cv2.putText(img, \"hahaha\", (20,50), cv2.FONT_HERSHEY_SIMPLEX, SCALE, COLOR, THICKNESS)\n",
    "\n",
    "cv2.imshow('omg', img)\n",
    "cv2.waitKey(0)\n",
    "cv2.destroyAllWindows()"
   ]
  },
  {
   "cell_type": "code",
   "execution_count": 1,
   "id": "cf87bc90-f0f5-43d9-b233-7c9ac5a21971",
   "metadata": {},
   "outputs": [],
   "source": [
    "# 이미지 불러오기\n",
    "import cv2\n",
    "img = cv2.imread('img.jpg')\n",
    "\n",
    "cv2.imshow('img', img)\n",
    "cv2.waitKey()\n",
    "cv2.destroyAllWindows()"
   ]
  },
  {
   "cell_type": "code",
   "execution_count": 42,
   "id": "23a8f981-c964-41eb-a165-be32fb8cb6ee",
   "metadata": {},
   "outputs": [],
   "source": [
    "# 삼각형 출력\n",
    "import cv2\n",
    "import numpy as np\n",
    "img = np.zeros((460,630,3), dtype=np.uint8)\n",
    "\n",
    "COLOR = (255,0,0)\n",
    "THICKNESS = 3\n",
    "\n",
    "# pts = np.array([[[200,300], [300,200], [400,200]], [[300,400], [300,500], [300,600]]])\n",
    "# cv2.fillPoly(img, pts, COLOR, cv2.LINE_AA)\n",
    "\n",
    "pts1 = np.array([[200,200],[300,200],[300,400]])\n",
    "# pts2 = np.array([[100,200],[200,200],[200,200]])\n",
    "cv2.fillPoly(img, [pts1], COLOR, cv2.LINE_AA)\n",
    "\n",
    "cv2.imshow('img', img)\n",
    "cv2.waitKey(0)\n",
    "cv2.destroyAllWindows()"
   ]
  },
  {
   "cell_type": "code",
   "execution_count": 48,
   "id": "876fa83b-9045-4857-98f4-a93fcb0f6b05",
   "metadata": {},
   "outputs": [],
   "source": [
    "import cv2\n",
    "import numpy as np\n",
    "img = np.zeros((600,900,3), dtype=np.uint8)\n",
    "\n",
    "RADIUS = 100\n",
    "COLOR = (255, 0, 0)\n",
    "THICKNESS = 3\n",
    "\n",
    "# cv2.circle(img, (200,200), RADIUS, COLOR, THICKNESS, cv2.LINE_AA)\n",
    "cv2.circle(img, (200,200), RADIUS, COLOR, cv2.FILLED, cv2.LINE_AA)\n",
    "\n",
    "cv2.imshow('circle', img)\n",
    "cv2.waitKey()\n",
    "cv2.destroyAllWindows()"
   ]
  }
 ],
 "metadata": {
  "kernelspec": {
   "display_name": "Python 3 (ipykernel)",
   "language": "python",
   "name": "python3"
  },
  "language_info": {
   "codemirror_mode": {
    "name": "ipython",
    "version": 3
   },
   "file_extension": ".py",
   "mimetype": "text/x-python",
   "name": "python",
   "nbconvert_exporter": "python",
   "pygments_lexer": "ipython3",
   "version": "3.11.4"
  }
 },
 "nbformat": 4,
 "nbformat_minor": 5
}
