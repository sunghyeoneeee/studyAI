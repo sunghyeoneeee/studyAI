{
 "cells": [
  {
   "cell_type": "code",
   "execution_count": 1,
   "id": "77b4775f-956f-4abf-b95e-e0907139faea",
   "metadata": {},
   "outputs": [
    {
     "name": "stdout",
     "output_type": "stream",
     "text": [
      "[[ 3 -1]\n",
      " [-4  0]]\n",
      "[[0 2]\n",
      " [3 2]]\n"
     ]
    }
   ],
   "source": [
    "import numpy as np\n",
    "# import pandas as pd\n",
    "\n",
    "a = np.matrix([1, 2, 3, 4])\n",
    "b = np.matrix([4, 1, 9, -1])\n",
    "\n",
    "list2 = ([[1, 2, 3, 4], \n",
    "               [1, 2, 1, 1]])\n",
    "\n",
    "A = np.matrix([[3, -1], [-4, 0]])\n",
    "B = np.matrix([[0, 2], [3, 2]])\n",
    "\n",
    "print(A)\n",
    "print(B)"
   ]
  },
  {
   "cell_type": "code",
   "execution_count": 2,
   "id": "4bfa8cae-bc8a-4d86-b033-f185f3708f8f",
   "metadata": {},
   "outputs": [
    {
     "name": "stdout",
     "output_type": "stream",
     "text": [
      "[[169. 169. 169.]\n",
      " [169. 185. 169.]\n",
      " [169. 169. 169.]]\n"
     ]
    }
   ],
   "source": [
    "import numpy as np\n",
    "R = np.matrix([[243, 243, 243], [243, 183, 243], [243, 243, 243]])\n",
    "G = np.matrix([[98, 98, 98], [98, 117, 98], [98, 98, 98]])\n",
    "B = np.matrix([[166, 166, 166], [166, 255, 166], [166, 166, 166]])\n",
    "\n",
    "print(1/3*(R + G + B))"
   ]
  },
  {
   "cell_type": "code",
   "execution_count": 3,
   "id": "17da4f42-049d-4f75-b34b-39cdb55eada2",
   "metadata": {},
   "outputs": [
    {
     "name": "stdout",
     "output_type": "stream",
     "text": [
      "[[ 7 10]\n",
      " [ 3  4]]\n",
      "[[ 1  4]\n",
      " [ 3 10]]\n",
      "[[-4]\n",
      " [-3]]\n"
     ]
    },
    {
     "ename": "ValueError",
     "evalue": "shapes (2,1) and (2,2) not aligned: 1 (dim 1) != 2 (dim 0)",
     "output_type": "error",
     "traceback": [
      "\u001b[0;31m---------------------------------------------------------------------------\u001b[0m",
      "\u001b[0;31mValueError\u001b[0m                                Traceback (most recent call last)",
      "Cell \u001b[0;32mIn[3], line 11\u001b[0m\n\u001b[1;32m      8\u001b[0m \u001b[38;5;28mprint\u001b[39m(B\u001b[38;5;241m*\u001b[39mA)\n\u001b[1;32m     10\u001b[0m \u001b[38;5;28mprint\u001b[39m(C\u001b[38;5;241m*\u001b[39mD)\n\u001b[0;32m---> 11\u001b[0m \u001b[38;5;28mprint\u001b[39m(\u001b[43mD\u001b[49m\u001b[38;5;241;43m*\u001b[39;49m\u001b[43mC\u001b[49m)\n",
      "File \u001b[0;32m~/miniforge3/envs/krc/lib/python3.8/site-packages/numpy/matrixlib/defmatrix.py:218\u001b[0m, in \u001b[0;36mmatrix.__mul__\u001b[0;34m(self, other)\u001b[0m\n\u001b[1;32m    215\u001b[0m \u001b[38;5;28;01mdef\u001b[39;00m \u001b[38;5;21m__mul__\u001b[39m(\u001b[38;5;28mself\u001b[39m, other):\n\u001b[1;32m    216\u001b[0m     \u001b[38;5;28;01mif\u001b[39;00m \u001b[38;5;28misinstance\u001b[39m(other, (N\u001b[38;5;241m.\u001b[39mndarray, \u001b[38;5;28mlist\u001b[39m, \u001b[38;5;28mtuple\u001b[39m)) :\n\u001b[1;32m    217\u001b[0m         \u001b[38;5;66;03m# This promotes 1-D vectors to row vectors\u001b[39;00m\n\u001b[0;32m--> 218\u001b[0m         \u001b[38;5;28;01mreturn\u001b[39;00m \u001b[43mN\u001b[49m\u001b[38;5;241;43m.\u001b[39;49m\u001b[43mdot\u001b[49m\u001b[43m(\u001b[49m\u001b[38;5;28;43mself\u001b[39;49m\u001b[43m,\u001b[49m\u001b[43m \u001b[49m\u001b[43masmatrix\u001b[49m\u001b[43m(\u001b[49m\u001b[43mother\u001b[49m\u001b[43m)\u001b[49m\u001b[43m)\u001b[49m\n\u001b[1;32m    219\u001b[0m     \u001b[38;5;28;01mif\u001b[39;00m isscalar(other) \u001b[38;5;129;01mor\u001b[39;00m \u001b[38;5;129;01mnot\u001b[39;00m \u001b[38;5;28mhasattr\u001b[39m(other, \u001b[38;5;124m'\u001b[39m\u001b[38;5;124m__rmul__\u001b[39m\u001b[38;5;124m'\u001b[39m) :\n\u001b[1;32m    220\u001b[0m         \u001b[38;5;28;01mreturn\u001b[39;00m N\u001b[38;5;241m.\u001b[39mdot(\u001b[38;5;28mself\u001b[39m, other)\n",
      "File \u001b[0;32m<__array_function__ internals>:180\u001b[0m, in \u001b[0;36mdot\u001b[0;34m(*args, **kwargs)\u001b[0m\n",
      "\u001b[0;31mValueError\u001b[0m: shapes (2,1) and (2,2) not aligned: 1 (dim 1) != 2 (dim 0)"
     ]
    }
   ],
   "source": [
    "import numpy as np\n",
    "A = np.matrix([[1, 2], [0, 1]])\n",
    "B= np.matrix([[1, 2], [3, 4]])\n",
    "\n",
    "C = np.matrix([[3, 2], [4, 5]])\n",
    "D= np.matrix([[-2], [1]])\n",
    "print(A*B)\n",
    "print(B*A)\n",
    "\n",
    "print(C*D)\n",
    "print(D*C)"
   ]
  },
  {
   "cell_type": "code",
   "execution_count": 4,
   "id": "72be3004-0b72-4ac4-a3b9-4e0c708868db",
   "metadata": {},
   "outputs": [
    {
     "name": "stdout",
     "output_type": "stream",
     "text": [
      "[[1 2]\n",
      " [0 1]]\n",
      "[[1 2]\n",
      " [0 1]]\n",
      "[[1 2]\n",
      " [0 1]]\n"
     ]
    }
   ],
   "source": [
    "import numpy as np\n",
    "A = np.matrix([[1, 2], [0, 1]])\n",
    "B= np.matrix([[1, 2], [3, 4]])\n",
    "\n",
    "C = np.matrix([[3, 2], [4, 5]])\n",
    "D= np.matrix([[-2], [1]])\n",
    "\n",
    "I = np.matrix([[1, 0], [0, 1]]) # 항등행렬\n",
    "print(A)\n",
    "print(A*I)\n",
    "print(I*A)\n",
    "\n",
    "# print(A*B)\n",
    "# print(B*A)\n",
    "\n",
    "# print(C*D)\n",
    "# print(D*C)"
   ]
  },
  {
   "cell_type": "code",
   "execution_count": 5,
   "id": "95628ee1-d7b7-48b6-b485-d5acc95d0f97",
   "metadata": {},
   "outputs": [
    {
     "name": "stdout",
     "output_type": "stream",
     "text": [
      "[[  0   0   0]\n",
      " [  0   0 255]\n",
      " [  0   0   0]]\n",
      "[[  0 255   0]\n",
      " [  0   0   0]\n",
      " [  0   0   0]]\n"
     ]
    }
   ],
   "source": [
    "T = np.matrix([[0, 1, 1], [0, 0, 1], [0, 0, 0]])\n",
    "A = np.matrix([[0, 0, 0], [0, 255, 0], [0, 0, 0]])\n",
    "\n",
    "print(A*T) # 오른쪽\n",
    "print(T*A) # 위쪽"
   ]
  }
 ],
 "metadata": {
  "kernelspec": {
   "display_name": "Python 3 (ipykernel)",
   "language": "python",
   "name": "python3"
  },
  "language_info": {
   "codemirror_mode": {
    "name": "ipython",
    "version": 3
   },
   "file_extension": ".py",
   "mimetype": "text/x-python",
   "name": "python",
   "nbconvert_exporter": "python",
   "pygments_lexer": "ipython3",
   "version": "3.8.17"
  }
 },
 "nbformat": 4,
 "nbformat_minor": 5
}
