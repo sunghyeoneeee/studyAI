{
 "cells": [
  {
   "cell_type": "code",
   "execution_count": 6,
   "id": "26d7429e-6fbe-4c1c-8b8f-ca991a6d388e",
   "metadata": {},
   "outputs": [
    {
     "name": "stdout",
     "output_type": "stream",
     "text": [
      "{1, 2, 3, 4}\n",
      "{1, 3}\n",
      "3\n",
      "['응', '아', '니', '야', 'ㅋㅋ']\n"
     ]
    }
   ],
   "source": [
    "A = {1,2,3}\n",
    "B = {1,3,4}\n",
    "\n",
    "print(A|B) # |로 합집합\n",
    "print(A&B) # &로 교집합\n",
    "print(len(A)) # len으로 원소 개수\n",
    "\n",
    "A = \"응,아,니,야,ㅋㅋ\".split(\",\")\n",
    "print(A)"
   ]
  },
  {
   "cell_type": "code",
   "execution_count": 46,
   "id": "44258596-c8a3-404e-be0a-3bef1ad2dbce",
   "metadata": {},
   "outputs": [
    {
     "name": "stdout",
     "output_type": "stream",
     "text": [
      "[1 0 0 1 1 0 1 1]\n",
      "[1 1 0 1 0 1 0 0]\n",
      "[1 0 1 1 1 0 1 1]\n",
      "[1 1 2 1 1 0 0 0]\n",
      "[1 1 2 1 1 0 0 0]\n",
      "[2 4 4 2 4 1 1 1]\n",
      "[1 1 1 1 1 0 0 0]\n",
      "[2 4 4 2 4 1 1 1]\n",
      "[0.66666667 1.         1.         0.66666667 0.66666667 0.33333333\n",
      " 0.33333333 0.33333333]\n",
      "[1.5 1.  1.  1.5 1.5 3.  3.  3. ]\n",
      "[1.5 1.  2.  1.5 1.5 0.  0.  0. ]\n",
      "[0. 2. 1. 0. 0. 3. 3. 0.]\n",
      "[1.5 1.  1.  1.5 4.5 0.  0.  3. ]\n"
     ]
    }
   ],
   "source": [
    "import numpy as np\n",
    "\n",
    "listA = \"한파,눈,예보,일부,비\".split(\",\")\n",
    "listB = \"눈,예보,퇴근길,조심\".split(\",\")\n",
    "listC = \"비,예보,일부,눈,그치다,한파\".split(\",\")\n",
    "\n",
    "A = set(listA)\n",
    "B = set(listB)\n",
    "C = set(listC)\n",
    "U = A|B|C\n",
    "listU = list(U)\n",
    "# print(listU)\n",
    "\n",
    "def Vec(X):\n",
    "    result = []\n",
    "    for t in listU:\n",
    "        if t in X:\n",
    "            result .append(1)\n",
    "        else:\n",
    "            result.append(0)\n",
    "    return(np.array(result))\n",
    "\n",
    "print(Vec(A))\n",
    "print(Vec(B))\n",
    "print(Vec(C))\n",
    "\n",
    "# 한파, 눈, 예보, 일부, 비, 퇴근길, 조심, 그치다\n",
    "VA = np.array([1, 1, 2, 1, 1, 0, 0, 0])\n",
    "VB = np.array([0, 2, 1, 0, 0, 1, 1, 0])\n",
    "VC = np.array([1, 1, 1, 1, 3, 0, 0, 1])\n",
    "\n",
    "print(VA)\n",
    "print(VA)\n",
    "\n",
    "print(VA+ VB + VC)\n",
    "\n",
    "def Bin(X):\n",
    "    result=[]\n",
    "    for i in X:\n",
    "        if i != 0:\n",
    "            result.append(1)\n",
    "        else:\n",
    "            result.append(0)\n",
    "    return(np.array(result))   \n",
    "print(Bin(VA))\n",
    "\n",
    "# TF\n",
    "print(VA + VB + VC)\n",
    "\n",
    "# DF\n",
    "print((Bin(VA)+Bin(VB)+Bin(VC))/3)\n",
    "\n",
    "# IDF\n",
    "IDF = 1/((Bin(VA)+Bin(VB)+Bin(VC))/3)\n",
    "print(IDF)\n",
    "\n",
    "# TF * IDF\n",
    "print(VA*IDF)\n",
    "print(VB*IDF)\n",
    "print(VC*IDF)"
   ]
  }
 ],
 "metadata": {
  "kernelspec": {
   "display_name": "Python 3 (ipykernel)",
   "language": "python",
   "name": "python3"
  },
  "language_info": {
   "codemirror_mode": {
    "name": "ipython",
    "version": 3
   },
   "file_extension": ".py",
   "mimetype": "text/x-python",
   "name": "python",
   "nbconvert_exporter": "python",
   "pygments_lexer": "ipython3",
   "version": "3.8.17"
  }
 },
 "nbformat": 4,
 "nbformat_minor": 5
}
