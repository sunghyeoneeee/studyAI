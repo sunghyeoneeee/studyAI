{
 "cells": [
  {
   "cell_type": "code",
   "execution_count": 12,
   "id": "15d03275-a560-42ca-bb44-d7af7b2e5253",
   "metadata": {},
   "outputs": [
    {
     "name": "stdout",
     "output_type": "stream",
     "text": [
      "6 0\n",
      "4 1\n",
      "7 2\n"
     ]
    }
   ],
   "source": [
    "# 해밍거리로 이미지 분류하기\n",
    "import numpy as np\n",
    "\n",
    "A = np.array([[0, 1, 1, 1, 0],\n",
    "           [1, 0, 0, 0, 1],\n",
    "           [1, 0, 0, 1, 1],\n",
    "           [1, 0, 1, 0, 1],\n",
    "           [1, 1, 0, 0, 1],\n",
    "           [1, 0, 0, 0, 1],\n",
    "           [0, 1, 1, 1, 0]\n",
    "           ])\n",
    "B = np.array([[0, 1, 1, 1, 0],\n",
    "           [1, 0, 0, 0, 1],\n",
    "           [1, 0, 0, 0, 1],\n",
    "           [0, 1, 1, 1, 0],\n",
    "           [1, 0, 0, 0, 1],\n",
    "           [1, 0, 0, 0, 1],\n",
    "           [0, 1, 1, 1, 0]\n",
    "           ])\n",
    "C = np.array([[0, 1, 1, 1, 0],\n",
    "           [1, 0, 0, 0, 1],\n",
    "           [1, 0, 0, 0, 1],\n",
    "           [0, 0, 0, 0, 0],\n",
    "           [1, 0, 0, 0, 1],\n",
    "           [1, 0, 0, 0, 1],\n",
    "           [0, 1, 1, 1, 0]\n",
    "           ])\n",
    "D = np.array([[0, 1, 1, 1, 0],\n",
    "           [1, 0, 0, 0, 1],\n",
    "           [1, 1, 0, 0, 1],\n",
    "           [1, 1, 1, 1, 1],\n",
    "           [1, 0, 0, 1, 1],\n",
    "           [1, 0, 0, 0, 1],\n",
    "           [0, 1, 1, 1, 0]\n",
    "           ])\n",
    "\n",
    "# sum은 모든 성분의 합\n",
    "np.sum(D)\n",
    "\n",
    "# abs는 모든 성분의 절댓값\n",
    "np.abs(-D)\n",
    "\n",
    "def H(X, Y):\n",
    "    return(np.sum(np.abs(X-Y)))\n",
    "\n",
    "for i, X in enumerate([A, B, C]):\n",
    "    print(H(X, D), i)"
   ]
  },
  {
   "cell_type": "code",
   "execution_count": 2,
   "id": "a3917f74-7525-4f0b-9ddc-827065f81e40",
   "metadata": {},
   "outputs": [
    {
     "name": "stdout",
     "output_type": "stream",
     "text": [
      "6 해밍0번째\n",
      "0.7368421052631579 퍼셉트론0번째\n",
      "4 해밍1번째\n",
      "0.8235294117647058 퍼셉트론1번째\n",
      "7 해밍2번째\n",
      "1.0 퍼셉트론2번째\n"
     ]
    }
   ],
   "source": [
    "# 퍼셉트론으로 이미지 분류하기\n",
    "import numpy as np\n",
    "\n",
    "A = np.array([[0, 1, 1, 1, 0],\n",
    "           [1, 0, 0, 0, 1],\n",
    "           [1, 0, 0, 1, 1],\n",
    "           [1, 0, 1, 0, 1],\n",
    "           [1, 1, 0, 0, 1],\n",
    "           [1, 0, 0, 0, 1],\n",
    "           [0, 1, 1, 1, 0]\n",
    "           ])\n",
    "B = np.array([[0, 1, 1, 1, 0],\n",
    "           [1, 0, 0, 0, 1],\n",
    "           [1, 0, 0, 0, 1],\n",
    "           [0, 1, 1, 1, 0],\n",
    "           [1, 0, 0, 0, 1],\n",
    "           [1, 0, 0, 0, 1],\n",
    "           [0, 1, 1, 1, 0]\n",
    "           ])\n",
    "C = np.array([[0, 1, 1, 1, 0],\n",
    "           [1, 0, 0, 0, 1],\n",
    "           [1, 0, 0, 0, 1],\n",
    "           [0, 0, 0, 0, 0],\n",
    "           [1, 0, 0, 0, 1],\n",
    "           [1, 0, 0, 0, 1],\n",
    "           [0, 1, 1, 1, 0]\n",
    "           ])\n",
    "D = np.array([[0, 1, 1, 1, 0],\n",
    "           [1, 0, 0, 0, 1],\n",
    "           [1, 1, 0, 0, 1],\n",
    "           [1, 1, 1, 1, 1],\n",
    "           [1, 0, 0, 1, 1],\n",
    "           [1, 0, 0, 0, 1],\n",
    "           [0, 1, 1, 1, 0]\n",
    "           ])\n",
    "\n",
    "# sum은 모든 성분의 합\n",
    "np.sum(D)\n",
    "\n",
    "# abs는 모든 성분의 절댓값\n",
    "np.abs(-D)\n",
    "\n",
    "def H(X, Y):\n",
    "    return(np.sum(np.abs(X-Y)))\n",
    "\n",
    "def P(X, Y):\n",
    "    return(np.sum(X*Y)/np.sum(X))\n",
    "        \n",
    "for i, X in enumerate([A, B, C]):\n",
    "    print(H(X, D), \"해밍{}번째\".format(i))\n",
    "    print(P(X, C), \"퍼셉트론{}번째\".format(i))"
   ]
  }
 ],
 "metadata": {
  "kernelspec": {
   "display_name": "Python 3 (ipykernel)",
   "language": "python",
   "name": "python3"
  },
  "language_info": {
   "codemirror_mode": {
    "name": "ipython",
    "version": 3
   },
   "file_extension": ".py",
   "mimetype": "text/x-python",
   "name": "python",
   "nbconvert_exporter": "python",
   "pygments_lexer": "ipython3",
   "version": "3.8.17"
  }
 },
 "nbformat": 4,
 "nbformat_minor": 5
}
