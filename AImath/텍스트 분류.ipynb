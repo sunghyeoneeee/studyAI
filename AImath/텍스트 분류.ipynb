{
 "cells": [
  {
   "cell_type": "code",
   "execution_count": 1,
   "id": "82ae109c-6e99-45b2-be79-0f751fa54a84",
   "metadata": {},
   "outputs": [
    {
     "name": "stdout",
     "output_type": "stream",
     "text": [
      "{'파랑', '빨강', '노랑'} {'빨강', '초록', '보라'} {'파랑', '초록', '보라'}\n",
      "0.2 0.5 0.2\n"
     ]
    }
   ],
   "source": [
    "P = set(\"빨강 노랑 파랑\".split(' '))\n",
    "Q = set(\"빨강 초록 보라\".split(' '))\n",
    "R = set(\"초록 파랑 보라\".split(' '))\n",
    "\n",
    "print(P, Q, R)\n",
    "\n",
    "# 합집합 (|) 교집합(&)\n",
    "\n",
    "# 자카드 유사도\n",
    "def J(P, Q):\n",
    "  return(len(P&Q)/len(P|Q))\n",
    "print(J(P, Q), J(Q, R), J(R, P))"
   ]
  },
  {
   "cell_type": "code",
   "execution_count": 2,
   "id": "3abda9a9-a38a-4adb-b733-8756f141c4d1",
   "metadata": {},
   "outputs": [
    {
     "name": "stdout",
     "output_type": "stream",
     "text": [
      "2.449489742783178 2.23606797749979 1.0\n"
     ]
    }
   ],
   "source": [
    "# 유클리드 유사도\n",
    "import numpy as np\n",
    "P = np.array([1, 0, 0])\n",
    "Q = np.array([0, 1, 2])\n",
    "R = np.array([1, 1, 0])\n",
    "\n",
    "print(np.linalg.norm(P-Q), np.linalg.norm(Q-R), np.linalg.norm(R-P))"
   ]
  },
  {
   "cell_type": "code",
   "execution_count": 3,
   "id": "6b75e111-d637-4c86-9f82-3c5539ebbaac",
   "metadata": {},
   "outputs": [
    {
     "name": "stdout",
     "output_type": "stream",
     "text": [
      "2.646 1.826\n",
      "3.162 2.023\n",
      "3.317 4.062\n"
     ]
    }
   ],
   "source": [
    "# 코사인 유사도\n",
    "P = np.array([2, 0, 1, 1])\n",
    "Q = np.array([0, 1, 0, 2])\n",
    "R = np.array([1, 3, 1, 0])\n",
    "\n",
    "def E(P, Q):\n",
    "  return(round(np.linalg.norm(Q-P), 3))\n",
    "\n",
    "def C(P, Q):\n",
    "  return(round(np.dot(P, Q)/np.linalg.norm(P)*np.linalg.norm(Q), 3))\n",
    "print(E(P, Q), C(P, Q))\n",
    "print(E(R, Q), C(R, Q))\n",
    "print(E(P, R), C(P, R))"
   ]
  },
  {
   "cell_type": "code",
   "execution_count": 4,
   "id": "91b8f812-d8a4-4b75-9f54-1e5d417a4471",
   "metadata": {},
   "outputs": [
    {
     "name": "stdout",
     "output_type": "stream",
     "text": [
      "2.6457513110645907 3.1622776601683795 3.3166247903554\n"
     ]
    }
   ],
   "source": [
    "import numpy as np\n",
    "P = np.array([2, 0, 1, 1])\n",
    "Q = np.array([0, 1, 0, 2])\n",
    "R = np.array([1, 3, 1, 0])\n",
    "\n",
    "print(np.linalg.norm(P-Q), np.linalg.norm(Q-R), np.linalg.norm(R-P))"
   ]
  }
 ],
 "metadata": {
  "kernelspec": {
   "display_name": "Python 3 (ipykernel)",
   "language": "python",
   "name": "python3"
  },
  "language_info": {
   "codemirror_mode": {
    "name": "ipython",
    "version": 3
   },
   "file_extension": ".py",
   "mimetype": "text/x-python",
   "name": "python",
   "nbconvert_exporter": "python",
   "pygments_lexer": "ipython3",
   "version": "3.8.17"
  }
 },
 "nbformat": 4,
 "nbformat_minor": 5
}
