{
 "cells": [
  {
   "cell_type": "code",
   "execution_count": 1,
   "id": "03c9e8cb-efef-44db-bc18-1e491d99de56",
   "metadata": {},
   "outputs": [
    {
     "name": "stdout",
     "output_type": "stream",
     "text": [
      "3\n",
      "0\n",
      "3\n",
      "3\n"
     ]
    }
   ],
   "source": [
    "# 퍼셉트론\n",
    "import numpy as np\n",
    "def perceptron(X, W, d):\n",
    "  X_arr = np.array(X)\n",
    "  W_arr = np.array(W)\n",
    "  S = np.dot(X_arr, W_arr)\n",
    "  if S >= d:\n",
    "    return(3)\n",
    "  else:\n",
    "    return(0)\n",
    "for x in range(0, 2):\n",
    "  for y in range(0, 2):\n",
    "    print(perceptron([x, y], [0.7, -0.4], 0))"
   ]
  }
 ],
 "metadata": {
  "kernelspec": {
   "display_name": "Python 3 (ipykernel)",
   "language": "python",
   "name": "python3"
  },
  "language_info": {
   "codemirror_mode": {
    "name": "ipython",
    "version": 3
   },
   "file_extension": ".py",
   "mimetype": "text/x-python",
   "name": "python",
   "nbconvert_exporter": "python",
   "pygments_lexer": "ipython3",
   "version": "3.8.17"
  }
 },
 "nbformat": 4,
 "nbformat_minor": 5
}
