{
 "cells": [
  {
   "cell_type": "code",
   "execution_count": 17,
   "id": "03c9e8cb-efef-44db-bc18-1e491d99de56",
   "metadata": {},
   "outputs": [
    {
     "name": "stdout",
     "output_type": "stream",
     "text": [
      "0\n",
      "0\n",
      "0\n",
      "1\n"
     ]
    }
   ],
   "source": [
    "# 퍼셉트론\n",
    "import numpy as np\n",
    "def perceptron(X, W, d):\n",
    "  X = np.array(X)\n",
    "  W = np.array(W)\n",
    "  S = np.dot(X, W) # 내적, 선형결합\n",
    "  if S >= d:\n",
    "    return(1)\n",
    "  else:\n",
    "    return(0)\n",
    "for x in range(0, 2):\n",
    "  for y in range(0, 2):\n",
    "    print(perceptron([x, y], [4, 4], 7))"
   ]
  },
  {
   "cell_type": "code",
   "execution_count": 28,
   "id": "a1e1333e-d4fa-4591-beab-a8973ec88329",
   "metadata": {},
   "outputs": [
    {
     "name": "stdout",
     "output_type": "stream",
     "text": [
      "0\n",
      "1\n",
      "1\n",
      "0\n"
     ]
    }
   ],
   "source": [
    "# 다중퍼셉트론\n",
    "import numpy as np\n",
    "def perc(X, W, d):\n",
    "  X = np.array(X)\n",
    "  W = np.array(W)\n",
    "  S = np.dot(X, W) # 내적, 선형결합\n",
    "  if S >= d:\n",
    "    return(1)\n",
    "  else:\n",
    "    return(0)\n",
    "\n",
    "def perc_and(X):\n",
    "    return(perc(X, [5, 5], 6))\n",
    "\n",
    "def perc_or(X):\n",
    "    return(perc(X, [5, 5], 4))\n",
    "\n",
    "def perc_nand(X):\n",
    "    return(perc(X, [-5, -5], -6))\n",
    "\n",
    "def perc_xor(X):\n",
    "    return(perc_and([perc_nand(X), perc_or(X)]))\n",
    "    \n",
    "for x in range(0, 2):\n",
    "  for y in range(0, 2):\n",
    "    print(perc_xor([x, y]))"
   ]
  }
 ],
 "metadata": {
  "kernelspec": {
   "display_name": "Python 3 (ipykernel)",
   "language": "python",
   "name": "python3"
  },
  "language_info": {
   "codemirror_mode": {
    "name": "ipython",
    "version": 3
   },
   "file_extension": ".py",
   "mimetype": "text/x-python",
   "name": "python",
   "nbconvert_exporter": "python",
   "pygments_lexer": "ipython3",
   "version": "3.8.17"
  }
 },
 "nbformat": 4,
 "nbformat_minor": 5
}
