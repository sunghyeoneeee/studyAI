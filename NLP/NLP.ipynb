{
 "cells": [
  {
   "cell_type": "markdown",
   "id": "c494a097-787e-46a7-9840-8018105f79a0",
   "metadata": {},
   "source": [
    "# 자연어 처리\n",
    "> 자연어(natrual language) : 일상 생활에서 사용하는 보편적인 언어 <br>\n",
    "> 자연어 처리(natural language processing, NLP) : 컴퓨터가 자연어를 처리하는 일\n",
    "1. Speech Recognition(음성 인식)\n",
    "2. Translation(번역)\n",
    "3. Text Summary(요약)\n",
    "4. Text Classification(분류)"
   ]
  },
  {
   "cell_type": "markdown",
   "id": "3e65eb2a-aca5-4e95-a5ad-e5d858e055f9",
   "metadata": {},
   "source": [
    "## NLP: History\n",
    "> 1950s : 튜링 테스트 <br>\n",
    "> 1980s : Deep Learning <br>\n",
    "> 2000s : Recurrent Neural Network(RNN) <br>\n",
    "> 2010s : Transformer, BERT, GPT <br>"
   ]
  },
  {
   "cell_type": "markdown",
   "id": "805d9bd3-4d24-4a0d-bd30-243c0dabcea8",
   "metadata": {},
   "source": [
    "## 텍스트 전처리 과정\n",
    "1. 토큰화 : 문장을 단어로 자름\n",
    "2. 정제 및 추출 : 중요한 단어만 놔두고 자름 \n",
    "3. 인코딩 : 남겨진 단어들을 숫자로 바꿈"
   ]
  }
 ],
 "metadata": {
  "kernelspec": {
   "display_name": "Python 3 (ipykernel)",
   "language": "python",
   "name": "python3"
  },
  "language_info": {
   "codemirror_mode": {
    "name": "ipython",
    "version": 3
   },
   "file_extension": ".py",
   "mimetype": "text/x-python",
   "name": "python",
   "nbconvert_exporter": "python",
   "pygments_lexer": "ipython3",
   "version": "3.8.17"
  }
 },
 "nbformat": 4,
 "nbformat_minor": 5
}
