{
 "cells": [
  {
   "cell_type": "markdown",
   "id": "609c2903-8062-413a-bcc1-59b824d0752f",
   "metadata": {},
   "source": [
    "# 자연어 처리\n",
    "> 자연어(natrual language) : 일상 생활에서 사용하는 보편적인 언어 <br>\n",
    "> 자연어 처리(natural language processing, NLP) : 컴퓨터가 자연어를 처리하는 일\n",
    "1. Speech Recognition(음성 인식)\n",
    "2. Translation(번역)\n",
    "3. Text Summary(요약)\n",
    "4. Text Classification(분류)"
   ]
  },
  {
   "cell_type": "markdown",
   "id": "d57170ab-197a-49aa-be5c-10d5e3101543",
   "metadata": {},
   "source": [
    "## 토큰화(Tokenization)\n",
    "> 주어진 문장에서 의미 부여가 가능한 단위를 찾는다"
   ]
  },
  {
   "cell_type": "code",
   "execution_count": 11,
   "id": "5b7613b4-babe-4c93-8436-3152a37b4a38",
   "metadata": {},
   "outputs": [
    {
     "name": "stdout",
     "output_type": "stream",
     "text": [
      "['이거', '정말', '맛있다', '.']\n"
     ]
    }
   ],
   "source": [
    "from nltk.tokenize import TreebankWordTokenizer\n",
    "tokenizer = TreebankWordTokenizer()\n",
    "text = \"이거 정말 맛있다.\"\n",
    "print(tokenizer.tokenize(text))"
   ]
  },
  {
   "cell_type": "code",
   "execution_count": 2,
   "id": "1b43a792-d42e-4bbf-b6d9-c9bbb33ca314",
   "metadata": {},
   "outputs": [
    {
     "name": "stdout",
     "output_type": "stream",
     "text": [
      "영어 문장 토큰화: ['Hell my name is haha.', 'I want to sleep.', 'Yeeesssssss.', 'Noooooo.']\n"
     ]
    }
   ],
   "source": [
    "from nltk.tokenize import sent_tokenize\n",
    "text = \"Hell my name is haha. I want to sleep. Yeeesssssss. Noooooo.\"\n",
    "print('영어 문장 토큰화:',sent_tokenize(text))"
   ]
  },
  {
   "cell_type": "code",
   "execution_count": 4,
   "id": "9c91c7ea-2f0f-41ca-9923-ad260cfa9eb2",
   "metadata": {},
   "outputs": [
    {
     "name": "stdout",
     "output_type": "stream",
     "text": [
      "한국 문장 토큰화: ['안녕하세요', '저는 입니다.', '너무 졸리다', '다다다. 자고싶다 제발냄새.', '으으으으으응']\n"
     ]
    }
   ],
   "source": [
    "import kss\n",
    "text = \"안녕하세요 저는 입니다. 너무 졸리다다다다. 자고싶다 제발냄새. 으으으으으응\"\n",
    "print('한국 문장 토큰화:',kss.split_sentences(text))"
   ]
  }
 ],
 "metadata": {
  "kernelspec": {
   "display_name": "Python 3 (ipykernel)",
   "language": "python",
   "name": "python3"
  },
  "language_info": {
   "codemirror_mode": {
    "name": "ipython",
    "version": 3
   },
   "file_extension": ".py",
   "mimetype": "text/x-python",
   "name": "python",
   "nbconvert_exporter": "python",
   "pygments_lexer": "ipython3",
   "version": "3.8.17"
  }
 },
 "nbformat": 4,
 "nbformat_minor": 5
}
